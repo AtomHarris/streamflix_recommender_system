{
 "cells": [
  {
   "cell_type": "markdown",
   "id": "9538a32c-c02a-4a83-8819-249bed447e92",
   "metadata": {},
   "source": [
    "![logo.png](attachment:logo.png)"
   ]
  },
  {
   "cell_type": "markdown",
   "id": "addc11ee-4adc-4e3f-870a-47496ff26d09",
   "metadata": {},
   "source": [
    "# BUSINESS UNDERSTANDING"
   ]
  },
  {
   "cell_type": "markdown",
   "id": "bb1e8a1a-4853-4b98-bcc8-7c7151490f1d",
   "metadata": {},
   "source": [
    "## Overview"
   ]
  },
  {
   "cell_type": "markdown",
   "id": "ae6e70cb-8761-4f35-9870-25ba27836dfb",
   "metadata": {},
   "source": [
    "StreamFlix aims to implement a movie recommendation system to enhance user experience, increase watch time and improve overall customer retention. The project will utilize the MovieLens dataset to build a collaborative filtering model that provides personalized top 5 movie recommendations for each user based on their previous ratings. StreamFlix has also observed that users often struggle to find movies they enjoy leading to decreased engagement and potential churn.\n",
    "By implementing a personalized recommendation system, StreamFlix hopes to:\n",
    "\n",
    "* Increase user satisfaction and engagement\n",
    "* Boost average watch time per user\n",
    "* Improve customer retention rates\n",
    "* Differentiate itself from competitors in the streaming market\n",
    "\n",
    "The following are approaches were proposed to enable new users to provide their ratings:\n",
    "\n",
    "+ Initial Survey:\n",
    "When a new user signs up for StreamFlix, they're presented with a quick survey of 20 popular movies across various genres. Users rate at least 10 of these movies on a scale of 1-5 stars.\n",
    "Continuous Rating:\n",
    "After watching a movie, users are prompted to rate it. This can be done through:\n",
    "\n",
    "+ A pop-up immediately after the movie ends\n",
    "A \"Rate this movie\" button on the movie's page\n",
    "A dedicated \"My Ratings\" section in the user's profile\n",
    "\n",
    "\n",
    "+ Rating Import:\n",
    "Offer users the option to import their ratings from other platforms (e.g., IMDb, Rotten Tomatoes) to quickly build their profile.\n",
    "Gamification:\n",
    "Implement a \"Movie Critic\" badge system where users earn badges for rating a certain number of movies, encouraging more ratings.\n",
    "\n",
    "\n"
   ]
  },
  {
   "cell_type": "markdown",
   "id": "cb031e75-b541-463b-8c5d-be88d0fa55f6",
   "metadata": {},
   "source": [
    "## Business Problem"
   ]
  },
  {
   "cell_type": "markdown",
   "id": "b4aef4a3-f506-41c8-8f36-67a4d7acd564",
   "metadata": {},
   "source": [
    "\n",
    "\n",
    "StreamFlix is facing challenges with user retention and engagement. Users are also overwhelmed by the vast library of movies available and often spend a considerable amount of time searching for movies they would enjoy.  StreamFlix is, therefore, looking for a way to provide personalized movie recommendations to its users to improve their viewing experience and increase platform usage. \n",
    "\n"
   ]
  },
  {
   "cell_type": "markdown",
   "id": "be8a72e2-097f-438b-a9ff-1df92299bf58",
   "metadata": {},
   "source": [
    "## Objectives"
   ]
  },
  {
   "cell_type": "markdown",
   "id": "c533b854-0de8-45e8-84a1-8432d689336f",
   "metadata": {},
   "source": [
    "### Main Objective"
   ]
  },
  {
   "cell_type": "markdown",
   "id": "5d655704-b366-485e-bc51-992384f76740",
   "metadata": {},
   "source": [
    "To develop and deploy a collaborative filtering-based recommendation system that accurately predicts user preferences and provides relevant movie suggestions.\n"
   ]
  },
  {
   "cell_type": "markdown",
   "id": "60a09e0e-9e38-467c-82e6-b09d8e2007f7",
   "metadata": {},
   "source": [
    "### Specific Objectives"
   ]
  },
  {
   "cell_type": "markdown",
   "id": "f28f3f7d-5712-458c-bc61-7730778d795e",
   "metadata": {},
   "source": [
    "1. To build a collaborative filtering model that uses user ratings to generate top 5 movie recommendations.\n",
    "2. To address the cold start problem using content-based filtering for new users.\n",
    "3. To evaluate the recommendation system using appropriate metrics like RMSE and MAP.\n",
    "\n"
   ]
  },
  {
   "cell_type": "markdown",
   "id": "5efa31bb-7862-49a4-9ce8-cc8fc893043a",
   "metadata": {},
   "source": [
    "## Success Metrics\n",
    "\n",
    "1. Root Mean Square Error (RMSE) < 0.9 for rating predictions\n",
    "2. Mean Average Precision @5 (MAP@5) > 0.3 for recommended movies\n",
    "3. User engagement increase: 15% boost in average watch time within 3 months of deployment\n",
    "4. Hit rate: Percentage of times that a recommended movie was actually watched by the user"
   ]
  },
  {
   "cell_type": "markdown",
   "id": "860bd0cf-e07d-48ba-8086-3af6e1c2aa64",
   "metadata": {},
   "source": [
    "# DATA UNDERSTANDING"
   ]
  },
  {
   "cell_type": "markdown",
   "id": "51ac4fea-abf6-4271-8b26-96bb8fd764f2",
   "metadata": {},
   "source": [
    "# DATA PREPROCESSING"
   ]
  },
  {
   "cell_type": "markdown",
   "id": "5c9a38f3-468a-41ea-888b-6e2e148aa1da",
   "metadata": {},
   "source": [
    "This section involves preparing the data for exploratory data analysis (EDA) and  modeling. The first step will be to import the modules relevant to this project then load the dataset into a pandas dataframe, preview the data and check for any missing, null or duplicate values.\n"
   ]
  },
  {
   "cell_type": "code",
   "execution_count": 3,
   "id": "7018cb24-f44b-4c38-ab33-d45adfde8093",
   "metadata": {},
   "outputs": [],
   "source": [
    "# Import relevant libraries\n",
    "\n",
    "# Data manipulation \n",
    "import pandas as pd \n",
    "import numpy as np \n",
    "\n",
    "# Data visualization\n",
    "import seaborn as sns \n",
    "import matplotlib.pyplot as plt \n",
    "%matplotlib inline\n",
    "\n",
    "# Data modelling\n",
    "from sklearn.model_selection import train_test_split, cross_val_score, GridSearchCV, RandomizedSearchCV\n",
    "from sklearn.preprocessing import StandardScaler\n",
    "\n",
    "# Filter future warnings\n",
    "import warnings\n",
    "warnings.filterwarnings('ignore')\n"
   ]
  },
  {
   "cell_type": "code",
   "execution_count": 5,
   "id": "e04557bf-b825-44b2-b117-6ebc6d956abd",
   "metadata": {},
   "outputs": [
    {
     "name": "stdout",
     "output_type": "stream",
     "text": [
      "Loading movie data csv file...\n",
      "Error: The file 'movies.csv' was not found.\n",
      "Error: No data loaded yet. Please call the load_data() method first.\n",
      "Summarizing the DataFrame info\n",
      "-------------------------------\n",
      "Error: No data loaded yet. Please call the load_data() method first.\n",
      "\n",
      "Describing the DataFrame data\n",
      "--------------------------------\n",
      "Error: No data loaded yet. Please call the load_data() method first.\n",
      "\n",
      "Displaying numerical and categorical columns\n",
      "-----------------------------------------------\n",
      "Error: No data loaded yet. Please call the load_data() method first.\n"
     ]
    }
   ],
   "source": [
    "class DataExplorer:\n",
    "    '''\n",
    "    A class to handle and explore pandas DataFrames.\n",
    "\n",
    "    Attributes:\n",
    "        file_path (str): The file path of the csv file to load.\n",
    "        data (pandas.DataFrame): The loaded DataFrame.\n",
    "\n",
    "    Methods:\n",
    "        load_data(): Load the CSV file into a DataFrame.\n",
    "        get_shape(): Print the number of rows and columns in the DataFrame.\n",
    "        summarize_info(): Print a summary of the DataFrame columns.\n",
    "        describe_data(): Print descriptive statistics of the DataFrame.\n",
    "    '''\n",
    "\n",
    "    def __init__(self, file_path):\n",
    "        '''\n",
    "        Initialize the DataExplorer object.\n",
    "\n",
    "        Args:\n",
    "            file_path (str): The file path of the csv file to load.\n",
    "        '''\n",
    "        self.file_path = file_path\n",
    "        self.data = None\n",
    "\n",
    "    def load_data(self):\n",
    "        '''\n",
    "        Load the csv file into a DataFrame.\n",
    "\n",
    "        Returns:\n",
    "            None\n",
    "        '''\n",
    "        print('Loading movie data csv file...')\n",
    "        try:\n",
    "            self.data = pd.read_csv(self.file_path)\n",
    "            print(f'Dataset loaded successfully from {self.file_path}\\n')\n",
    "        except FileNotFoundError:\n",
    "            print(f'Error: The file \\'{self.file_path}\\' was not found.')\n",
    "        except Exception as e:\n",
    "            print(f'Error: An unexpected error occurred: {e}')\n",
    "\n",
    "    def get_shape(self):\n",
    "        '''\n",
    "        Print the number of rows and columns in the DataFrame.\n",
    "\n",
    "        Returns:\n",
    "            None\n",
    "        '''\n",
    "        if self.data is not None:\n",
    "            rows, columns = self.data.shape\n",
    "            print(f'The DataFrame has {rows} rows and {columns} columns.\\n')\n",
    "        else:\n",
    "            print('Error: No data loaded yet. Please call the load_data() method first.')\n",
    "            \n",
    "\n",
    "    def summarize_info(self):\n",
    "        '''\n",
    "        Print a summary of the DataFrame columns.\n",
    "\n",
    "        Returns:\n",
    "            None\n",
    "        '''\n",
    "        print('Summarizing the DataFrame info')\n",
    "        print('-------------------------------')\n",
    "        if self.data is not None:\n",
    "            print(self.data.info())\n",
    "        else:\n",
    "            print('Error: No data loaded yet. Please call the load_data() method first.')\n",
    "\n",
    "    def describe_data(self):\n",
    "        '''\n",
    "        Print descriptive statistics of the DataFrame.\n",
    "\n",
    "        Returns:\n",
    "            None\n",
    "        '''\n",
    "        print('\\nDescribing the DataFrame data')\n",
    "        print('--------------------------------')\n",
    "\n",
    "        if self.data is not None:\n",
    "            print(self.data.describe())\n",
    "        else:\n",
    "            print('Error: No data loaded yet. Please call the load_data() method first.')\n",
    "            \n",
    "    def display_column_types(self):\n",
    "        '''\n",
    "        Display numerical and categorical columns.\n",
    "\n",
    "        Returns:\n",
    "            None\n",
    "        '''\n",
    "        print('\\nDisplaying numerical and categorical columns')\n",
    "        print('-----------------------------------------------')\n",
    "        if self.data is not None:\n",
    "            numerical_columns = self.data.select_dtypes(include='number').columns\n",
    "            categorical_columns = self.data.select_dtypes(include='object').columns\n",
    "            print(f'Numerical Columns: {numerical_columns}\\n')\n",
    "            print(f'Categorical Columns: {categorical_columns}\\n')\n",
    "        else:\n",
    "            print('Error: No data loaded yet. Please call the load_data() method first.')\n",
    "\n",
    "            \n",
    "\n",
    "# Instantiate \n",
    "file_path = 'movies.csv'\n",
    "data_explorer = DataExplorer(file_path)\n",
    "\n",
    "# Load data\n",
    "data_explorer.load_data()\n",
    "\n",
    "# Get dimensions\n",
    "data_explorer.get_shape()\n",
    "\n",
    "# Summarize info\n",
    "data_explorer.summarize_info()\n",
    "\n",
    "# Describe data\n",
    "data_explorer.describe_data()\n",
    "\n",
    "# Display numerical and categorical columns\n",
    "data_explorer.display_column_types()"
   ]
  },
  {
   "cell_type": "code",
   "execution_count": null,
   "id": "8898ac4a-7e04-40a3-8a7e-9944c655f664",
   "metadata": {},
   "outputs": [],
   "source": []
  }
 ],
 "metadata": {
  "kernelspec": {
   "display_name": "Python 3 (ipykernel)",
   "language": "python",
   "name": "python3"
  },
  "language_info": {
   "codemirror_mode": {
    "name": "ipython",
    "version": 3
   },
   "file_extension": ".py",
   "mimetype": "text/x-python",
   "name": "python",
   "nbconvert_exporter": "python",
   "pygments_lexer": "ipython3",
   "version": "3.8.5"
  }
 },
 "nbformat": 4,
 "nbformat_minor": 5
}
